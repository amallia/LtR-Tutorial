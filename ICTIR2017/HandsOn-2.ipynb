{
 "cells": [
  {
   "cell_type": "markdown",
   "metadata": {},
   "source": [
    "# Efficiency/Effectiveness Trade-offs in Learning to Rank\n",
    "### Tutorial @ ICTIR 2017, HandsOn Session N. 2\n",
    "\n",
    "##### Claudio Lucchese (UniVe), Franco Maria Nardini (ISTI-CNR)\n",
    "##### High Performance Computing Lab. http://hpc.isti.cnr.it/"
   ]
  },
  {
   "cell_type": "markdown",
   "metadata": {},
   "source": [
    "<img src=\"images/hpc.png\" width=\"250\">"
   ]
  },
  {
   "cell_type": "code",
   "execution_count": 6,
   "metadata": {},
   "outputs": [
    {
     "name": "stdout",
     "output_type": "stream",
     "text": [
      "The autoreload extension is already loaded. To reload it, use:\n",
      "  %reload_ext autoreload\n"
     ]
    }
   ],
   "source": [
    "%matplotlib inline\n",
    "%load_ext autoreload\n",
    "%autoreload 2\n",
    "\n",
    "import matplotlib.pyplot as plt\n",
    "\n",
    "import os\n",
    "import numpy as np\n",
    "import pandas as pd\n",
    "import xarray as xr\n",
    "\n",
    "from rankeval.dataset import Dataset\n",
    "from rankeval.model import RTEnsemble\n",
    "from rankeval.metrics import NDCG\n",
    "from rankeval.analysis.effectiveness import tree_wise_performance\n",
    "from rankeval.visualization.effectiveness import plot_tree_wise_performance\n",
    "from rankeval.analysis.effectiveness import model_performance"
   ]
  },
  {
   "cell_type": "markdown",
   "metadata": {},
   "source": [
    "### Agenda\n",
    "\n",
    " 0. Train the optimal **LambdaMart** model and evaluate its effectiveness and efficiency\n",
    " 0. Removing and optimizing trees with **Cleaver**\n",
    " 0. Improving effectiveness with **DART**\n",
    " 0. Improving efficiency with **X-Dart**\n",
    " 0. From cond-op/Vpred to **QuickScorer**\n",
    " 0. From QuickScorer to **V-QuickScorer**"
   ]
  },
  {
   "cell_type": "markdown",
   "metadata": {},
   "source": [
    "### Prerequisites\n",
    "\n",
    " - Quickrank, see installation instructions. https://github.com/hpclab/quickrank\n",
    " - Install Quickscorer (private HPC git) master branch under NDA. http://learningtorank.isti.cnr.it/\n",
    " - Install RankEval, see installation instructions. https://github.com/hpclab/rankeval \n",
    " - Download the Istella-S LETOR dataset. http://blog.istella.it/istella-learning-to-rank-dataset/"
   ]
  },
  {
   "cell_type": "code",
   "execution_count": 7,
   "metadata": {
    "collapsed": true
   },
   "outputs": [],
   "source": [
    "# Global Options\n",
    "\n",
    "# paths to executable files\n",
    "QUICKRANK = \"./quickrank/bin/quicklearn\"\n",
    "SCORER    = \"./quickrank/bin/quickscore\"\n",
    "\n",
    "QUICKSCORER = \"./QuickScorer/bin/quickscorer\"\n",
    "\n",
    "# paths to Istella-S dataset\n",
    "train_dataset_file = \"/data/letor-datasets/tiscali/sample/train.txt\"\n",
    "valid_dataset_file = \"/data/letor-datasets/tiscali/sample/vali.txt\"\n",
    "test_dataset_file  = \"/data/letor-datasets/tiscali/sample/test.txt\"\n",
    "\n",
    "# paths to model file\n",
    "models_folder            = \"models\"\n",
    "baseline_model_file      = os.path.join(models_folder, \"istella-small.lamdamart.xml\")\n",
    "cleaver_model_file       = os.path.join(models_folder, \"istella-small.lamdamart.cleaver.xml\")\n",
    "\n",
    "dart_model_file          = os.path.join(models_folder, \"istella-small.dart.xml\")\n",
    "xdart_model_file         = os.path.join(models_folder, \"istella-small.xdart.xml\")\n",
    "\n",
    "small_dart_model_file    = os.path.join(models_folder, \"istella-small.dart.small.xml\")\n",
    "small_xdart_model_file   = os.path.join(models_folder, \"istella-small.xdart.small.xml\")\n",
    "\n",
    "# setting floating point precision of Pandas\n",
    "pd.set_option('precision', 4)"
   ]
  },
  {
   "cell_type": "markdown",
   "metadata": {},
   "source": [
    "### Train the optimal LambdaMart model and evaluate its effectiveness and efficiency\n",
    "\n",
    "[LambdaMart] can be considered the state of the art algorithm.\n",
    "\n",
    "**Note:** As training takes a lot of time, we already trained a model for you and made it available at http://learningtorank.isti.cnr.it/models/istella-small_models.tar.gz so that you can skip the training step."
   ]
  },
  {
   "cell_type": "code",
   "execution_count": null,
   "metadata": {
    "collapsed": true,
    "scrolled": true
   },
   "outputs": [],
   "source": [
    "!{QUICKRANK} \\\n",
    "    --train {train_dataset_file} \\\n",
    "    --valid {valid_dataset_file} \\\n",
    "    --model-out {baseline_model_file} \\\n",
    "    --num-trees 1500 \\\n",
    "    --num-leaves 64 \\\n",
    "    --shrinkage 0.05"
   ]
  },
  {
   "cell_type": "markdown",
   "metadata": {},
   "source": [
    "#### Evaluate the effectiveness of the model on train, validation and test datasets"
   ]
  },
  {
   "cell_type": "code",
   "execution_count": 8,
   "metadata": {
    "collapsed": true
   },
   "outputs": [],
   "source": [
    "# load istella-S dataset\n",
    "train_dataset = Dataset.load(train_dataset_file, name=\"train\")\n",
    "valid_dataset = Dataset.load(valid_dataset_file, name=\"valid\")\n",
    "test_dataset  = Dataset.load(test_dataset_file, name=\"test\")"
   ]
  },
  {
   "cell_type": "code",
   "execution_count": 9,
   "metadata": {
    "collapsed": true
   },
   "outputs": [],
   "source": [
    "# load the model\n",
    "baseline_model = RTEnsemble(baseline_model_file, name=\"LambdaMart\", format=\"QuickRank\")"
   ]
  },
  {
   "cell_type": "code",
   "execution_count": 10,
   "metadata": {
    "collapsed": true
   },
   "outputs": [],
   "source": [
    "# define metric\n",
    "ndcg_10 = NDCG(cutoff=10, \n",
    "               no_relevant_results=0.0) # assign score 0 to queries without relevant docs"
   ]
  },
  {
   "cell_type": "code",
   "execution_count": 11,
   "metadata": {},
   "outputs": [
    {
     "data": {
      "application/vnd.jupyter.widget-view+json": {
       "model_id": "b782a84905aa490fb666b210f390a7cb"
      }
     },
     "metadata": {},
     "output_type": "display_data"
    }
   ],
   "source": [
    "# measure NDCG every 20 trees\n",
    "tree_wise_perf = tree_wise_performance( datasets =[train_dataset, valid_dataset, test_dataset], \n",
    "                                        models   =[baseline_model],\n",
    "                                        metrics  =[ndcg_10],\n",
    "                                        step=20)"
   ]
  },
  {
   "cell_type": "code",
   "execution_count": 12,
   "metadata": {},
   "outputs": [
    {
     "data": {
      "image/png": "[encoded data removed]",
      "text/plain": [
       "<matplotlib.figure.Figure at 0x7fc1f5984ed0>"
      ]
     },
     "metadata": {},
     "output_type": "display_data"
    }
   ],
   "source": [
    "fig_list = plot_tree_wise_performance(tree_wise_perf, compare = \"datasets\")"
   ]
  },
  {
   "cell_type": "code",
   "execution_count": 13,
   "metadata": {},
   "outputs": [
    {
     "data": {
      "text/html": [
       "<div>\n",
       "<style>\n",
       "    .dataframe thead tr:only-child th {\n",
       "        text-align: right;\n",
       "    }\n",
       "\n",
       "    .dataframe thead th {\n",
       "        text-align: left;\n",
       "    }\n",
       "\n",
       "    .dataframe tbody tr th {\n",
       "        vertical-align: top;\n",
       "    }\n",
       "</style>\n",
       "<table border=\"1\" class=\"dataframe\">\n",
       "  <thead>\n",
       "    <tr style=\"text-align: right;\">\n",
       "      <th></th>\n",
       "      <th></th>\n",
       "      <th></th>\n",
       "      <th>dataset</th>\n",
       "      <th>Tree-Wise Performance</th>\n",
       "    </tr>\n",
       "    <tr>\n",
       "      <th>model</th>\n",
       "      <th>k</th>\n",
       "      <th>metric</th>\n",
       "      <th></th>\n",
       "      <th></th>\n",
       "    </tr>\n",
       "  </thead>\n",
       "  <tbody>\n",
       "    <tr>\n",
       "      <th rowspan=\"61\" valign=\"top\">LambdaMart</th>\n",
       "      <th>20</th>\n",
       "      <th>NDCG@10</th>\n",
       "      <td>test</td>\n",
       "      <td>0.6345</td>\n",
       "    </tr>\n",
       "    <tr>\n",
       "      <th>40</th>\n",
       "      <th>NDCG@10</th>\n",
       "      <td>test</td>\n",
       "      <td>0.6634</td>\n",
       "    </tr>\n",
       "    <tr>\n",
       "      <th>60</th>\n",
       "      <th>NDCG@10</th>\n",
       "      <td>test</td>\n",
       "      <td>0.6812</td>\n",
       "    </tr>\n",
       "    <tr>\n",
       "      <th>80</th>\n",
       "      <th>NDCG@10</th>\n",
       "      <td>test</td>\n",
       "      <td>0.6934</td>\n",
       "    </tr>\n",
       "    <tr>\n",
       "      <th>100</th>\n",
       "      <th>NDCG@10</th>\n",
       "      <td>test</td>\n",
       "      <td>0.7030</td>\n",
       "    </tr>\n",
       "    <tr>\n",
       "      <th>120</th>\n",
       "      <th>NDCG@10</th>\n",
       "      <td>test</td>\n",
       "      <td>0.7091</td>\n",
       "    </tr>\n",
       "    <tr>\n",
       "      <th>140</th>\n",
       "      <th>NDCG@10</th>\n",
       "      <td>test</td>\n",
       "      <td>0.7146</td>\n",
       "    </tr>\n",
       "    <tr>\n",
       "      <th>160</th>\n",
       "      <th>NDCG@10</th>\n",
       "      <td>test</td>\n",
       "      <td>0.7198</td>\n",
       "    </tr>\n",
       "    <tr>\n",
       "      <th>180</th>\n",
       "      <th>NDCG@10</th>\n",
       "      <td>test</td>\n",
       "      <td>0.7235</td>\n",
       "    </tr>\n",
       "    <tr>\n",
       "      <th>200</th>\n",
       "      <th>NDCG@10</th>\n",
       "      <td>test</td>\n",
       "      <td>0.7272</td>\n",
       "    </tr>\n",
       "    <tr>\n",
       "      <th>220</th>\n",
       "      <th>NDCG@10</th>\n",
       "      <td>test</td>\n",
       "      <td>0.7299</td>\n",
       "    </tr>\n",
       "    <tr>\n",
       "      <th>240</th>\n",
       "      <th>NDCG@10</th>\n",
       "      <td>test</td>\n",
       "      <td>0.7323</td>\n",
       "    </tr>\n",
       "    <tr>\n",
       "      <th>260</th>\n",
       "      <th>NDCG@10</th>\n",
       "      <td>test</td>\n",
       "      <td>0.7338</td>\n",
       "    </tr>\n",
       "    <tr>\n",
       "      <th>280</th>\n",
       "      <th>NDCG@10</th>\n",
       "      <td>test</td>\n",
       "      <td>0.7357</td>\n",
       "    </tr>\n",
       "    <tr>\n",
       "      <th>300</th>\n",
       "      <th>NDCG@10</th>\n",
       "      <td>test</td>\n",
       "      <td>0.7368</td>\n",
       "    </tr>\n",
       "    <tr>\n",
       "      <th>320</th>\n",
       "      <th>NDCG@10</th>\n",
       "      <td>test</td>\n",
       "      <td>0.7381</td>\n",
       "    </tr>\n",
       "    <tr>\n",
       "      <th>340</th>\n",
       "      <th>NDCG@10</th>\n",
       "      <td>test</td>\n",
       "      <td>0.7395</td>\n",
       "    </tr>\n",
       "    <tr>\n",
       "      <th>360</th>\n",
       "      <th>NDCG@10</th>\n",
       "      <td>test</td>\n",
       "      <td>0.7407</td>\n",
       "    </tr>\n",
       "    <tr>\n",
       "      <th>380</th>\n",
       "      <th>NDCG@10</th>\n",
       "      <td>test</td>\n",
       "      <td>0.7417</td>\n",
       "    </tr>\n",
       "    <tr>\n",
       "      <th>400</th>\n",
       "      <th>NDCG@10</th>\n",
       "      <td>test</td>\n",
       "      <td>0.7424</td>\n",
       "    </tr>\n",
       "    <tr>\n",
       "      <th>420</th>\n",
       "      <th>NDCG@10</th>\n",
       "      <td>test</td>\n",
       "      <td>0.7427</td>\n",
       "    </tr>\n",
       "    <tr>\n",
       "      <th>440</th>\n",
       "      <th>NDCG@10</th>\n",
       "      <td>test</td>\n",
       "      <td>0.7437</td>\n",
       "    </tr>\n",
       "    <tr>\n",
       "      <th>460</th>\n",
       "      <th>NDCG@10</th>\n",
       "      <td>test</td>\n",
       "      <td>0.7442</td>\n",
       "    </tr>\n",
       "    <tr>\n",
       "      <th>480</th>\n",
       "      <th>NDCG@10</th>\n",
       "      <td>test</td>\n",
       "      <td>0.7447</td>\n",
       "    </tr>\n",
       "    <tr>\n",
       "      <th>500</th>\n",
       "      <th>NDCG@10</th>\n",
       "      <td>test</td>\n",
       "      <td>0.7451</td>\n",
       "    </tr>\n",
       "    <tr>\n",
       "      <th>520</th>\n",
       "      <th>NDCG@10</th>\n",
       "      <td>test</td>\n",
       "      <td>0.7458</td>\n",
       "    </tr>\n",
       "    <tr>\n",
       "      <th>540</th>\n",
       "      <th>NDCG@10</th>\n",
       "      <td>test</td>\n",
       "      <td>0.7464</td>\n",
       "    </tr>\n",
       "    <tr>\n",
       "      <th>560</th>\n",
       "      <th>NDCG@10</th>\n",
       "      <td>test</td>\n",
       "      <td>0.7466</td>\n",
       "    </tr>\n",
       "    <tr>\n",
       "      <th>580</th>\n",
       "      <th>NDCG@10</th>\n",
       "      <td>test</td>\n",
       "      <td>0.7472</td>\n",
       "    </tr>\n",
       "    <tr>\n",
       "      <th>600</th>\n",
       "      <th>NDCG@10</th>\n",
       "      <td>test</td>\n",
       "      <td>0.7475</td>\n",
       "    </tr>\n",
       "    <tr>\n",
       "      <th>...</th>\n",
       "      <th>...</th>\n",
       "      <td>...</td>\n",
       "      <td>...</td>\n",
       "    </tr>\n",
       "    <tr>\n",
       "      <th>920</th>\n",
       "      <th>NDCG@10</th>\n",
       "      <td>test</td>\n",
       "      <td>0.7503</td>\n",
       "    </tr>\n",
       "    <tr>\n",
       "      <th>940</th>\n",
       "      <th>NDCG@10</th>\n",
       "      <td>test</td>\n",
       "      <td>0.7506</td>\n",
       "    </tr>\n",
       "    <tr>\n",
       "      <th>960</th>\n",
       "      <th>NDCG@10</th>\n",
       "      <td>test</td>\n",
       "      <td>0.7509</td>\n",
       "    </tr>\n",
       "    <tr>\n",
       "      <th>980</th>\n",
       "      <th>NDCG@10</th>\n",
       "      <td>test</td>\n",
       "      <td>0.7509</td>\n",
       "    </tr>\n",
       "    <tr>\n",
       "      <th>1000</th>\n",
       "      <th>NDCG@10</th>\n",
       "      <td>test</td>\n",
       "      <td>0.7512</td>\n",
       "    </tr>\n",
       "    <tr>\n",
       "      <th>1020</th>\n",
       "      <th>NDCG@10</th>\n",
       "      <td>test</td>\n",
       "      <td>0.7513</td>\n",
       "    </tr>\n",
       "    <tr>\n",
       "      <th>1040</th>\n",
       "      <th>NDCG@10</th>\n",
       "      <td>test</td>\n",
       "      <td>0.7515</td>\n",
       "    </tr>\n",
       "    <tr>\n",
       "      <th>1060</th>\n",
       "      <th>NDCG@10</th>\n",
       "      <td>test</td>\n",
       "      <td>0.7519</td>\n",
       "    </tr>\n",
       "    <tr>\n",
       "      <th>1080</th>\n",
       "      <th>NDCG@10</th>\n",
       "      <td>test</td>\n",
       "      <td>0.7521</td>\n",
       "    </tr>\n",
       "    <tr>\n",
       "      <th>1100</th>\n",
       "      <th>NDCG@10</th>\n",
       "      <td>test</td>\n",
       "      <td>0.7524</td>\n",
       "    </tr>\n",
       "    <tr>\n",
       "      <th>1120</th>\n",
       "      <th>NDCG@10</th>\n",
       "      <td>test</td>\n",
       "      <td>0.7525</td>\n",
       "    </tr>\n",
       "    <tr>\n",
       "      <th>1140</th>\n",
       "      <th>NDCG@10</th>\n",
       "      <td>test</td>\n",
       "      <td>0.7526</td>\n",
       "    </tr>\n",
       "    <tr>\n",
       "      <th>1160</th>\n",
       "      <th>NDCG@10</th>\n",
       "      <td>test</td>\n",
       "      <td>0.7527</td>\n",
       "    </tr>\n",
       "    <tr>\n",
       "      <th>1180</th>\n",
       "      <th>NDCG@10</th>\n",
       "      <td>test</td>\n",
       "      <td>0.7529</td>\n",
       "    </tr>\n",
       "    <tr>\n",
       "      <th>1200</th>\n",
       "      <th>NDCG@10</th>\n",
       "      <td>test</td>\n",
       "      <td>0.7526</td>\n",
       "    </tr>\n",
       "    <tr>\n",
       "      <th>1220</th>\n",
       "      <th>NDCG@10</th>\n",
       "      <td>test</td>\n",
       "      <td>0.7529</td>\n",
       "    </tr>\n",
       "    <tr>\n",
       "      <th>1240</th>\n",
       "      <th>NDCG@10</th>\n",
       "      <td>test</td>\n",
       "      <td>0.7528</td>\n",
       "    </tr>\n",
       "    <tr>\n",
       "      <th>1260</th>\n",
       "      <th>NDCG@10</th>\n",
       "      <td>test</td>\n",
       "      <td>0.7528</td>\n",
       "    </tr>\n",
       "    <tr>\n",
       "      <th>1280</th>\n",
       "      <th>NDCG@10</th>\n",
       "      <td>test</td>\n",
       "      <td>0.7530</td>\n",
       "    </tr>\n",
       "    <tr>\n",
       "      <th>1300</th>\n",
       "      <th>NDCG@10</th>\n",
       "      <td>test</td>\n",
       "      <td>0.7531</td>\n",
       "    </tr>\n",
       "    <tr>\n",
       "      <th>1320</th>\n",
       "      <th>NDCG@10</th>\n",
       "      <td>test</td>\n",
       "      <td>0.7532</td>\n",
       "    </tr>\n",
       "    <tr>\n",
       "      <th>1340</th>\n",
       "      <th>NDCG@10</th>\n",
       "      <td>test</td>\n",
       "      <td>0.7533</td>\n",
       "    </tr>\n",
       "    <tr>\n",
       "      <th>1360</th>\n",
       "      <th>NDCG@10</th>\n",
       "      <td>test</td>\n",
       "      <td>0.7534</td>\n",
       "    </tr>\n",
       "    <tr>\n",
       "      <th>1380</th>\n",
       "      <th>NDCG@10</th>\n",
       "      <td>test</td>\n",
       "      <td>0.7533</td>\n",
       "    </tr>\n",
       "    <tr>\n",
       "      <th>1400</th>\n",
       "      <th>NDCG@10</th>\n",
       "      <td>test</td>\n",
       "      <td>0.7534</td>\n",
       "    </tr>\n",
       "    <tr>\n",
       "      <th>1420</th>\n",
       "      <th>NDCG@10</th>\n",
       "      <td>test</td>\n",
       "      <td>0.7535</td>\n",
       "    </tr>\n",
       "    <tr>\n",
       "      <th>1440</th>\n",
       "      <th>NDCG@10</th>\n",
       "      <td>test</td>\n",
       "      <td>0.7537</td>\n",
       "    </tr>\n",
       "    <tr>\n",
       "      <th>1460</th>\n",
       "      <th>NDCG@10</th>\n",
       "      <td>test</td>\n",
       "      <td>0.7537</td>\n",
       "    </tr>\n",
       "    <tr>\n",
       "      <th>1480</th>\n",
       "      <th>NDCG@10</th>\n",
       "      <td>test</td>\n",
       "      <td>0.7536</td>\n",
       "    </tr>\n",
       "    <tr>\n",
       "      <th>1492</th>\n",
       "      <th>NDCG@10</th>\n",
       "      <td>test</td>\n",
       "      <td>0.7537</td>\n",
       "    </tr>\n",
       "  </tbody>\n",
       "</table>\n",
       "<p>75 rows × 2 columns</p>\n",
       "</div>"
      ],
      "text/plain": [
       "                        dataset  Tree-Wise Performance\n",
       "model      k    metric                                \n",
       "LambdaMart 20   NDCG@10    test                 0.6345\n",
       "           40   NDCG@10    test                 0.6634\n",
       "           60   NDCG@10    test                 0.6812\n",
       "           80   NDCG@10    test                 0.6934\n",
       "           100  NDCG@10    test                 0.7030\n",
       "           120  NDCG@10    test                 0.7091\n",
       "           140  NDCG@10    test                 0.7146\n",
       "           160  NDCG@10    test                 0.7198\n",
       "           180  NDCG@10    test                 0.7235\n",
       "           200  NDCG@10    test                 0.7272\n",
       "           220  NDCG@10    test                 0.7299\n",
       "           240  NDCG@10    test                 0.7323\n",
       "           260  NDCG@10    test                 0.7338\n",
       "           280  NDCG@10    test                 0.7357\n",
       "           300  NDCG@10    test                 0.7368\n",
       "           320  NDCG@10    test                 0.7381\n",
       "           340  NDCG@10    test                 0.7395\n",
       "           360  NDCG@10    test                 0.7407\n",
       "           380  NDCG@10    test                 0.7417\n",
       "           400  NDCG@10    test                 0.7424\n",
       "           420  NDCG@10    test                 0.7427\n",
       "           440  NDCG@10    test                 0.7437\n",
       "           460  NDCG@10    test                 0.7442\n",
       "           480  NDCG@10    test                 0.7447\n",
       "           500  NDCG@10    test                 0.7451\n",
       "           520  NDCG@10    test                 0.7458\n",
       "           540  NDCG@10    test                 0.7464\n",
       "           560  NDCG@10    test                 0.7466\n",
       "           580  NDCG@10    test                 0.7472\n",
       "           600  NDCG@10    test                 0.7475\n",
       "...                         ...                    ...\n",
       "           920  NDCG@10    test                 0.7503\n",
       "           940  NDCG@10    test                 0.7506\n",
       "           960  NDCG@10    test                 0.7509\n",
       "           980  NDCG@10    test                 0.7509\n",
       "           1000 NDCG@10    test                 0.7512\n",
       "           1020 NDCG@10    test                 0.7513\n",
       "           1040 NDCG@10    test                 0.7515\n",
       "           1060 NDCG@10    test                 0.7519\n",
       "           1080 NDCG@10    test                 0.7521\n",
       "           1100 NDCG@10    test                 0.7524\n",
       "           1120 NDCG@10    test                 0.7525\n",
       "           1140 NDCG@10    test                 0.7526\n",
       "           1160 NDCG@10    test                 0.7527\n",
       "           1180 NDCG@10    test                 0.7529\n",
       "           1200 NDCG@10    test                 0.7526\n",
       "           1220 NDCG@10    test                 0.7529\n",
       "           1240 NDCG@10    test                 0.7528\n",
       "           1260 NDCG@10    test                 0.7528\n",
       "           1280 NDCG@10    test                 0.7530\n",
       "           1300 NDCG@10    test                 0.7531\n",
       "           1320 NDCG@10    test                 0.7532\n",
       "           1340 NDCG@10    test                 0.7533\n",
       "           1360 NDCG@10    test                 0.7534\n",
       "           1380 NDCG@10    test                 0.7533\n",
       "           1400 NDCG@10    test                 0.7534\n",
       "           1420 NDCG@10    test                 0.7535\n",
       "           1440 NDCG@10    test                 0.7537\n",
       "           1460 NDCG@10    test                 0.7537\n",
       "           1480 NDCG@10    test                 0.7536\n",
       "           1492 NDCG@10    test                 0.7537\n",
       "\n",
       "[75 rows x 2 columns]"
      ]
     },
     "execution_count": 13,
     "metadata": {},
     "output_type": "execute_result"
    }
   ],
   "source": [
    "tree_wise_perf.loc[{'dataset':test_dataset}].to_dataframe()"
   ]
  },
  {
   "cell_type": "code",
   "execution_count": 14,
   "metadata": {
    "collapsed": true
   },
   "outputs": [],
   "source": [
    "baseline_effectiveness = tree_wise_perf.loc[{'dataset':test_dataset, 'model':baseline_model, 'metric':ndcg_10}].values[-1]"
   ]
  },
  {
   "cell_type": "markdown",
   "metadata": {},
   "source": [
    "#### Evaluate the efficiency of the model"
   ]
  },
  {
   "cell_type": "code",
   "execution_count": 15,
   "metadata": {
    "collapsed": true
   },
   "outputs": [],
   "source": [
    "# We use Con-Op based C code as a baseline for the scoring time evaluation\n",
    "\n",
    "def run_condop(model_file, dataset_file, rounds=1):\n",
    "    # create the C code\n",
    "    print (\" 1. Creating the C code for \" + model_file)\n",
    "    condop_source = model_file + \".c\"\n",
    "    \n",
    "    _ = !{QUICKRANK} \\\n",
    "      --generator condop \\\n",
    "      --model-file {model_file} \\\n",
    "      --code-file {condop_source}\n",
    "    \n",
    "    # Compile an executable ranker. The resulting ranker is SCORER=./quickrank/bin/quickscore\n",
    "    print (\" 2. Compiling the model\")\n",
    "\n",
    "    # replace empty scorer\n",
    "    !cp {condop_source} ./quickrank/src/scoring/ranker.cc\n",
    "    # compile\n",
    "    _ = !make -j -C ./quickrank/build_ quickscore \n",
    "    \n",
    "    # Run the compiled model\n",
    "    print (\" 3. Running the compiled model\")\n",
    "    scorer_out = !{SCORER} \\\n",
    "      -d {dataset_file} \\\n",
    "      -r {rounds}\n",
    "    \n",
    "    print (scorer_out.n)\n",
    "    \n",
    "    # takes the scoring time in milli-seconds\n",
    "    scoring_time = float(scorer_out.l[-1].split()[-2])* 10**6\n",
    "    \n",
    "    return scoring_time"
   ]
  },
  {
   "cell_type": "code",
   "execution_count": 16,
   "metadata": {},
   "outputs": [
    {
     "name": "stdout",
     "output_type": "stream",
     "text": [
      " 1. Creating the C code for models/istella-small.lamdamart.xml\n",
      " 2. Compiling the model\n",
      " 3. Running the compiled model\n",
      "\n",
      "      _____  _____\n",
      "     /    / /____/\n",
      "    /____\\ /    \\          QuickRank has been developed by hpc.isti.cnr.it\n",
      "    ::Quick:Rank::                                   quickrank@isti.cnr.it\n",
      "\n",
      "#\t Dataset size: 681250 x 220 (instances x features)\n",
      "#\t Num queries: 6562 | Avg. len: 104\n",
      "       Total scoring time: 73.4 s.\n",
      "Avg. Dataset scoring time: 73.4 s.\n",
      "Avg.    Doc. scoring time: 0.000108 s.\n"
     ]
    }
   ],
   "source": [
    "baseline_efficiency = run_condop(baseline_model_file, test_dataset_file)"
   ]
  },
  {
   "cell_type": "code",
   "execution_count": 17,
   "metadata": {},
   "outputs": [
    {
     "data": {
      "text/html": [
       "<div>\n",
       "<style>\n",
       "    .dataframe thead tr:only-child th {\n",
       "        text-align: right;\n",
       "    }\n",
       "\n",
       "    .dataframe thead th {\n",
       "        text-align: left;\n",
       "    }\n",
       "\n",
       "    .dataframe tbody tr th {\n",
       "        vertical-align: top;\n",
       "    }\n",
       "</style>\n",
       "<table border=\"1\" class=\"dataframe\">\n",
       "  <thead>\n",
       "    <tr style=\"text-align: right;\">\n",
       "      <th></th>\n",
       "      <th>Model</th>\n",
       "      <th># Trees</th>\n",
       "      <th>NDCG@10</th>\n",
       "      <th>Scoring Time µs.</th>\n",
       "    </tr>\n",
       "  </thead>\n",
       "  <tbody>\n",
       "    <tr>\n",
       "      <th>0</th>\n",
       "      <td>LambdaMart</td>\n",
       "      <td>1492</td>\n",
       "      <td>0.7537</td>\n",
       "      <td>108.0</td>\n",
       "    </tr>\n",
       "  </tbody>\n",
       "</table>\n",
       "</div>"
      ],
      "text/plain": [
       "        Model # Trees  NDCG@10  Scoring Time µs.\n",
       "0  LambdaMart    1492   0.7537             108.0"
      ]
     },
     "execution_count": 17,
     "metadata": {},
     "output_type": "execute_result"
    }
   ],
   "source": [
    "# Store current results\n",
    "results = pd.DataFrame(columns=['Model', '# Trees', 'NDCG@10', 'Scoring Time µs.'])\n",
    "\n",
    "results.loc[len(results)] = [baseline_model.name, baseline_model.n_trees, baseline_effectiveness, baseline_efficiency]\n",
    "results"
   ]
  },
  {
   "cell_type": "markdown",
   "metadata": {
    "collapsed": true
   },
   "source": [
    "### Pruning and optimizing trees with Cleaver\n",
    "\n",
    "[Cleaver] is a pruning algorithm removes the trees in a given forest that contribute less and fine-tunes the weights of the remaining ones. Here we apply such pruning to the LambdaMart model just built. \n",
    "\n",
    "<img src=\"images/cleaver.png\" width=700>"
   ]
  },
  {
   "cell_type": "markdown",
   "metadata": {},
   "source": [
    "#### Evaluate the effectiveness of the model\n",
    "\n",
    "Cleaver is implemented by QuickRank. See documentation here: https://github.com/hpclab/quickrank/blob/master/documentation/cleaver.md."
   ]
  },
  {
   "cell_type": "code",
   "execution_count": null,
   "metadata": {
    "collapsed": true
   },
   "outputs": [],
   "source": [
    "pruning_rate = 0.5\n",
    "!{QUICKRANK}\\\n",
    "    --model-in {baseline_model_file} \\\n",
    "    --train {train_dataset_file} \\\n",
    "    --valid {valid_dataset_file} \\\n",
    "    --opt-algo CLEAVER \\\n",
    "    --opt-method QUALITY_LOSS_ADV \\\n",
    "    --pruning-rate {pruning_rate} \\\n",
    "    --with-line-search \\\n",
    "    --num-samples 20 \\\n",
    "    --window-size 10 \\\n",
    "    --reduction-factor 0.95 \\\n",
    "    --max-iterations 100 \\\n",
    "    --max-failed-valid 20 \\\n",
    "    --adaptive \\\n",
    "    --opt-algo-model {cleaver_model_file}"
   ]
  },
  {
   "cell_type": "code",
   "execution_count": 18,
   "metadata": {
    "collapsed": true
   },
   "outputs": [],
   "source": [
    "cleaver_model = RTEnsemble(cleaver_model_file, name=\"Cleaver\", format=\"QuickRank\")"
   ]
  },
  {
   "cell_type": "code",
   "execution_count": 19,
   "metadata": {
    "scrolled": false
   },
   "outputs": [
    {
     "data": {
      "application/vnd.jupyter.widget-view+json": {
       "model_id": "e225cc3025214a92b6d5c2e1863f9f21"
      }
     },
     "metadata": {},
     "output_type": "display_data"
    },
    {
     "data": {
      "image/png": "[encoded data removed]",
      "text/plain": [
       "<matplotlib.figure.Figure at 0x7fc20d14bd10>"
      ]
     },
     "metadata": {},
     "output_type": "display_data"
    }
   ],
   "source": [
    "# measure NDCG\n",
    "tree_wise_perf = tree_wise_performance(datasets=[test_dataset], \n",
    "                                        models=[baseline_model, cleaver_model],\n",
    "                                        metrics=[ndcg_10],\n",
    "                                        step=20)\n",
    "fig_list = plot_tree_wise_performance(tree_wise_perf, compare = \"models\")"
   ]
  },
  {
   "cell_type": "code",
   "execution_count": 20,
   "metadata": {},
   "outputs": [
    {
     "data": {
      "text/html": [
       "<div>\n",
       "<style>\n",
       "    .dataframe thead tr:only-child th {\n",
       "        text-align: right;\n",
       "    }\n",
       "\n",
       "    .dataframe thead th {\n",
       "        text-align: left;\n",
       "    }\n",
       "\n",
       "    .dataframe tbody tr th {\n",
       "        vertical-align: top;\n",
       "    }\n",
       "</style>\n",
       "<table border=\"1\" class=\"dataframe\">\n",
       "  <thead>\n",
       "    <tr style=\"text-align: right;\">\n",
       "      <th></th>\n",
       "      <th></th>\n",
       "      <th></th>\n",
       "      <th>Model Performance</th>\n",
       "    </tr>\n",
       "    <tr>\n",
       "      <th>dataset</th>\n",
       "      <th>model</th>\n",
       "      <th>metric</th>\n",
       "      <th></th>\n",
       "    </tr>\n",
       "  </thead>\n",
       "  <tbody>\n",
       "    <tr>\n",
       "      <th rowspan=\"2\" valign=\"top\">test</th>\n",
       "      <th>Cleaver</th>\n",
       "      <th>NDCG@10</th>\n",
       "      <td>0.7530</td>\n",
       "    </tr>\n",
       "    <tr>\n",
       "      <th>LambdaMart</th>\n",
       "      <th>NDCG@10</th>\n",
       "      <td>0.7537</td>\n",
       "    </tr>\n",
       "  </tbody>\n",
       "</table>\n",
       "</div>"
      ],
      "text/plain": [
       "                            Model Performance\n",
       "dataset model      metric                    \n",
       "test    Cleaver    NDCG@10             0.7530\n",
       "        LambdaMart NDCG@10             0.7537"
      ]
     },
     "execution_count": 20,
     "metadata": {},
     "output_type": "execute_result"
    }
   ],
   "source": [
    "models_perf = model_performance(datasets=[test_dataset], \n",
    "                                 models=[cleaver_model, baseline_model], \n",
    "                                 metrics=[ndcg_10])\n",
    "models_perf.to_dataframe()"
   ]
  },
  {
   "cell_type": "code",
   "execution_count": 21,
   "metadata": {},
   "outputs": [
    {
     "data": {
      "application/vnd.jupyter.widget-view+json": {
       "model_id": "8b927b15a2a54cbcb7defb6d8f108681"
      }
     },
     "metadata": {},
     "output_type": "display_data"
    },
    {
     "data": {
      "application/vnd.jupyter.widget-view+json": {
       "model_id": "7b7db55281cd4e89925457fb0195c6cb"
      }
     },
     "metadata": {},
     "output_type": "display_data"
    },
    {
     "data": {
      "text/html": [
       "<div>\n",
       "<style>\n",
       "    .dataframe thead tr:only-child th {\n",
       "        text-align: right;\n",
       "    }\n",
       "\n",
       "    .dataframe thead th {\n",
       "        text-align: left;\n",
       "    }\n",
       "\n",
       "    .dataframe tbody tr th {\n",
       "        vertical-align: top;\n",
       "    }\n",
       "</style>\n",
       "<table border=\"1\" class=\"dataframe\">\n",
       "  <thead>\n",
       "    <tr style=\"text-align: right;\">\n",
       "      <th></th>\n",
       "      <th></th>\n",
       "      <th></th>\n",
       "      <th>Statistical Significance</th>\n",
       "    </tr>\n",
       "    <tr>\n",
       "      <th>dataset</th>\n",
       "      <th>metric</th>\n",
       "      <th>p-value</th>\n",
       "      <th></th>\n",
       "    </tr>\n",
       "  </thead>\n",
       "  <tbody>\n",
       "    <tr>\n",
       "      <th rowspan=\"2\" valign=\"top\">test</th>\n",
       "      <th rowspan=\"2\" valign=\"top\">NDCG@10</th>\n",
       "      <th>one-sided</th>\n",
       "      <td>0.1981</td>\n",
       "    </tr>\n",
       "    <tr>\n",
       "      <th>two-sided</th>\n",
       "      <td>0.3913</td>\n",
       "    </tr>\n",
       "  </tbody>\n",
       "</table>\n",
       "</div>"
      ],
      "text/plain": [
       "                           Statistical Significance\n",
       "dataset metric  p-value                            \n",
       "test    NDCG@10 one-sided                    0.1981\n",
       "                two-sided                    0.3913"
      ]
     },
     "execution_count": 21,
     "metadata": {},
     "output_type": "execute_result"
    }
   ],
   "source": [
    "from rankeval.analysis.statistical import statistical_significance\n",
    "stat_sig = statistical_significance(datasets=[test_dataset],\n",
    "                                    model_a=cleaver_model, model_b=baseline_model, \n",
    "                                    metrics=[ndcg_10],\n",
    "                                    n_perm=100000 )\n",
    "stat_sig.to_dataframe()"
   ]
  },
  {
   "cell_type": "markdown",
   "metadata": {},
   "source": [
    "We conclude difference is not statistically significant. The model built by Cleaver can be used instead of the LambdaMart model."
   ]
  },
  {
   "cell_type": "code",
   "execution_count": 22,
   "metadata": {
    "collapsed": true
   },
   "outputs": [],
   "source": [
    "cleaver_effectiveness = float( models_perf.loc[{'model':cleaver_model, 'dataset':test_dataset, 'metric':ndcg_10}] )"
   ]
  },
  {
   "cell_type": "markdown",
   "metadata": {},
   "source": [
    "#### Evaluate the efficiency of the model"
   ]
  },
  {
   "cell_type": "code",
   "execution_count": 23,
   "metadata": {},
   "outputs": [
    {
     "name": "stdout",
     "output_type": "stream",
     "text": [
      " 1. Creating the C code for models/istella-small.lamdamart.cleaver.xml\n",
      " 2. Compiling the model\n",
      " 3. Running the compiled model\n",
      "\n",
      "      _____  _____\n",
      "     /    / /____/\n",
      "    /____\\ /    \\          QuickRank has been developed by hpc.isti.cnr.it\n",
      "    ::Quick:Rank::                                   quickrank@isti.cnr.it\n",
      "\n",
      "#\t Dataset size: 681250 x 220 (instances x features)\n",
      "#\t Num queries: 6562 | Avg. len: 104\n",
      "       Total scoring time: 32.5 s.\n",
      "Avg. Dataset scoring time: 32.5 s.\n",
      "Avg.    Doc. scoring time: 4.77e-05 s.\n"
     ]
    }
   ],
   "source": [
    "cleaver_efficiency = run_condop(cleaver_model_file, test_dataset_file)"
   ]
  },
  {
   "cell_type": "code",
   "execution_count": 24,
   "metadata": {},
   "outputs": [
    {
     "data": {
      "text/html": [
       "<div>\n",
       "<style>\n",
       "    .dataframe thead tr:only-child th {\n",
       "        text-align: right;\n",
       "    }\n",
       "\n",
       "    .dataframe thead th {\n",
       "        text-align: left;\n",
       "    }\n",
       "\n",
       "    .dataframe tbody tr th {\n",
       "        vertical-align: top;\n",
       "    }\n",
       "</style>\n",
       "<table border=\"1\" class=\"dataframe\">\n",
       "  <thead>\n",
       "    <tr style=\"text-align: right;\">\n",
       "      <th></th>\n",
       "      <th>Model</th>\n",
       "      <th># Trees</th>\n",
       "      <th>NDCG@10</th>\n",
       "      <th>Scoring Time µs.</th>\n",
       "    </tr>\n",
       "  </thead>\n",
       "  <tbody>\n",
       "    <tr>\n",
       "      <th>0</th>\n",
       "      <td>LambdaMart</td>\n",
       "      <td>1492</td>\n",
       "      <td>0.7537</td>\n",
       "      <td>108.0</td>\n",
       "    </tr>\n",
       "    <tr>\n",
       "      <th>1</th>\n",
       "      <td>Cleaver</td>\n",
       "      <td>746</td>\n",
       "      <td>0.7530</td>\n",
       "      <td>47.7</td>\n",
       "    </tr>\n",
       "  </tbody>\n",
       "</table>\n",
       "</div>"
      ],
      "text/plain": [
       "        Model # Trees  NDCG@10  Scoring Time µs.\n",
       "0  LambdaMart    1492   0.7537             108.0\n",
       "1     Cleaver     746   0.7530              47.7"
      ]
     },
     "execution_count": 24,
     "metadata": {},
     "output_type": "execute_result"
    }
   ],
   "source": [
    "results.loc[len(results)] = [cleaver_model.name, cleaver_model.n_trees, cleaver_effectiveness, cleaver_efficiency]\n",
    "results"
   ]
  },
  {
   "cell_type": "markdown",
   "metadata": {},
   "source": [
    "### Improving effectiveness with DART\n",
    "\n",
    "[Dart] expoits a *dropout* strategy temporarily muting trees during training. Dart is thus able to produce higher quality models. Our goal is to build a smaller model providing the same quality as the baseline model.\n",
    "\n",
    "<img src=\"images/dart.png\">"
   ]
  },
  {
   "cell_type": "markdown",
   "metadata": {
    "collapsed": true
   },
   "source": [
    "#### Evaluate the effectiveness of the model\n",
    "\n",
    "Dart is implemented by QuickRank. See documentation here: https://github.com/hpclab/quickrank/blob/master/documentation/xdart.md.\n",
    "\n",
    "**Note:** As training takes a lot of time, we already trained a model for you and made it available at http://learningtorank.isti.cnr.it/models/istella-small_models.tar.gz so that you can skip the training step."
   ]
  },
  {
   "cell_type": "code",
   "execution_count": null,
   "metadata": {
    "collapsed": true,
    "scrolled": true
   },
   "outputs": [],
   "source": [
    "# Train Dart with QuickRank\n",
    "!{QUICKRANK} \\\n",
    "  --algo DART \\\n",
    "  --train {train_dataset_file} \\\n",
    "  --valid {valid_dataset_file} \\\n",
    "  --model-out {dart_model_file} \\\n",
    "  --num-trees 1500 \\\n",
    "  --num-leaves 64 \\\n",
    "  --shrinkage 1.0 \\\n",
    "  --sample-type UNIFORM \\\n",
    "  --normalize-type TREE \\\n",
    "  --adaptive-type FIXED \\\n",
    "  --rate-drop 0.015"
   ]
  },
  {
   "cell_type": "code",
   "execution_count": 25,
   "metadata": {
    "collapsed": true
   },
   "outputs": [],
   "source": [
    "# load Dart Models\n",
    "dart_model = RTEnsemble(dart_model_file, name=\"Dart\", format=\"QuickRank\")"
   ]
  },
  {
   "cell_type": "code",
   "execution_count": 26,
   "metadata": {},
   "outputs": [
    {
     "data": {
      "application/vnd.jupyter.widget-view+json": {
       "model_id": "047c4e4ef4b74a39a4ccb8d827bfd5a5"
      }
     },
     "metadata": {},
     "output_type": "display_data"
    },
    {
     "data": {
      "image/png": "[encoded data removed]",
      "text/plain": [
       "<matplotlib.figure.Figure at 0x7fc1f4880ed0>"
      ]
     },
     "metadata": {},
     "output_type": "display_data"
    }
   ],
   "source": [
    "# measure NDCG\n",
    "tree_wise_perf = tree_wise_performance(datasets=[test_dataset], \n",
    "                                        models=[baseline_model, cleaver_model, dart_model],\n",
    "                                        metrics=[ndcg_10],\n",
    "                                        step=20)\n",
    "fig_list = plot_tree_wise_performance(tree_wise_perf, compare = \"models\")"
   ]
  },
  {
   "cell_type": "code",
   "execution_count": 27,
   "metadata": {},
   "outputs": [
    {
     "data": {
      "text/html": [
       "<div>\n",
       "<style>\n",
       "    .dataframe thead tr:only-child th {\n",
       "        text-align: right;\n",
       "    }\n",
       "\n",
       "    .dataframe thead th {\n",
       "        text-align: left;\n",
       "    }\n",
       "\n",
       "    .dataframe tbody tr th {\n",
       "        vertical-align: top;\n",
       "    }\n",
       "</style>\n",
       "<table border=\"1\" class=\"dataframe\">\n",
       "  <thead>\n",
       "    <tr style=\"text-align: right;\">\n",
       "      <th></th>\n",
       "      <th></th>\n",
       "      <th></th>\n",
       "      <th>model</th>\n",
       "      <th>Tree-Wise Performance</th>\n",
       "    </tr>\n",
       "    <tr>\n",
       "      <th>dataset</th>\n",
       "      <th>k</th>\n",
       "      <th>metric</th>\n",
       "      <th></th>\n",
       "      <th></th>\n",
       "    </tr>\n",
       "  </thead>\n",
       "  <tbody>\n",
       "    <tr>\n",
       "      <th rowspan=\"5\" valign=\"top\">test</th>\n",
       "      <th>700</th>\n",
       "      <th>NDCG@10</th>\n",
       "      <td>Dart</td>\n",
       "      <td>0.7535</td>\n",
       "    </tr>\n",
       "    <tr>\n",
       "      <th>720</th>\n",
       "      <th>NDCG@10</th>\n",
       "      <td>Dart</td>\n",
       "      <td>0.7537</td>\n",
       "    </tr>\n",
       "    <tr>\n",
       "      <th>740</th>\n",
       "      <th>NDCG@10</th>\n",
       "      <td>Dart</td>\n",
       "      <td>0.7537</td>\n",
       "    </tr>\n",
       "    <tr>\n",
       "      <th>760</th>\n",
       "      <th>NDCG@10</th>\n",
       "      <td>Dart</td>\n",
       "      <td>0.7540</td>\n",
       "    </tr>\n",
       "    <tr>\n",
       "      <th>780</th>\n",
       "      <th>NDCG@10</th>\n",
       "      <td>Dart</td>\n",
       "      <td>0.7541</td>\n",
       "    </tr>\n",
       "  </tbody>\n",
       "</table>\n",
       "</div>"
      ],
      "text/plain": [
       "                    model  Tree-Wise Performance\n",
       "dataset k   metric                              \n",
       "test    700 NDCG@10  Dart                 0.7535\n",
       "        720 NDCG@10  Dart                 0.7537\n",
       "        740 NDCG@10  Dart                 0.7537\n",
       "        760 NDCG@10  Dart                 0.7540\n",
       "        780 NDCG@10  Dart                 0.7541"
      ]
     },
     "execution_count": 27,
     "metadata": {},
     "output_type": "execute_result"
    }
   ],
   "source": [
    "# we want at least the same effectiveness as the baseline model\n",
    "tree_wise_perf.loc[{'model':dart_model, 'k':range(700,800,20)}].to_dataframe()"
   ]
  },
  {
   "cell_type": "code",
   "execution_count": 28,
   "metadata": {
    "collapsed": true
   },
   "outputs": [],
   "source": [
    "small_dart_trees = 760\n",
    "small_dart = dart_model.copy(n_trees=small_dart_trees)\n",
    "small_dart.save(small_dart_model_file)\n",
    "\n",
    "small_dart_effectiveness = float( tree_wise_perf.loc[{'model':dart_model, 'k':small_dart_trees, 'metric':ndcg_10}].values )"
   ]
  },
  {
   "cell_type": "markdown",
   "metadata": {},
   "source": [
    "#### Evaluate the efficiency of the model"
   ]
  },
  {
   "cell_type": "code",
   "execution_count": 29,
   "metadata": {},
   "outputs": [
    {
     "name": "stdout",
     "output_type": "stream",
     "text": [
      " 1. Creating the C code for models/istella-small.dart.small.xml\n",
      " 2. Compiling the model\n",
      " 3. Running the compiled model\n",
      "\n",
      "      _____  _____\n",
      "     /    / /____/\n",
      "    /____\\ /    \\          QuickRank has been developed by hpc.isti.cnr.it\n",
      "    ::Quick:Rank::                                   quickrank@isti.cnr.it\n",
      "\n",
      "#\t Dataset size: 681250 x 220 (instances x features)\n",
      "#\t Num queries: 6562 | Avg. len: 104\n",
      "       Total scoring time: 32.2 s.\n",
      "Avg. Dataset scoring time: 32.2 s.\n",
      "Avg.    Doc. scoring time: 4.72e-05 s.\n"
     ]
    }
   ],
   "source": [
    "small_dart_efficiency = run_condop(small_dart_model_file, test_dataset_file)"
   ]
  },
  {
   "cell_type": "code",
   "execution_count": 30,
   "metadata": {},
   "outputs": [
    {
     "data": {
      "text/html": [
       "<div>\n",
       "<style>\n",
       "    .dataframe thead tr:only-child th {\n",
       "        text-align: right;\n",
       "    }\n",
       "\n",
       "    .dataframe thead th {\n",
       "        text-align: left;\n",
       "    }\n",
       "\n",
       "    .dataframe tbody tr th {\n",
       "        vertical-align: top;\n",
       "    }\n",
       "</style>\n",
       "<table border=\"1\" class=\"dataframe\">\n",
       "  <thead>\n",
       "    <tr style=\"text-align: right;\">\n",
       "      <th></th>\n",
       "      <th>Model</th>\n",
       "      <th># Trees</th>\n",
       "      <th>NDCG@10</th>\n",
       "      <th>Scoring Time µs.</th>\n",
       "    </tr>\n",
       "  </thead>\n",
       "  <tbody>\n",
       "    <tr>\n",
       "      <th>0</th>\n",
       "      <td>LambdaMart</td>\n",
       "      <td>1492</td>\n",
       "      <td>0.7537</td>\n",
       "      <td>108.0</td>\n",
       "    </tr>\n",
       "    <tr>\n",
       "      <th>1</th>\n",
       "      <td>Cleaver</td>\n",
       "      <td>746</td>\n",
       "      <td>0.7530</td>\n",
       "      <td>47.7</td>\n",
       "    </tr>\n",
       "    <tr>\n",
       "      <th>2</th>\n",
       "      <td>Dart</td>\n",
       "      <td>760</td>\n",
       "      <td>0.7540</td>\n",
       "      <td>47.2</td>\n",
       "    </tr>\n",
       "  </tbody>\n",
       "</table>\n",
       "</div>"
      ],
      "text/plain": [
       "        Model # Trees  NDCG@10  Scoring Time µs.\n",
       "0  LambdaMart    1492   0.7537             108.0\n",
       "1     Cleaver     746   0.7530              47.7\n",
       "2        Dart     760   0.7540              47.2"
      ]
     },
     "execution_count": 30,
     "metadata": {},
     "output_type": "execute_result"
    }
   ],
   "source": [
    "results.loc[len(results)] = [small_dart.name, small_dart.n_trees, small_dart_effectiveness, small_dart_efficiency]\n",
    "results"
   ]
  },
  {
   "cell_type": "markdown",
   "metadata": {},
   "source": [
    "## Improving efficiency with X-Dart\n",
    "\n",
    "[XDart] extends the idea of Dart by allowing the permanent removal of trees: muted dropout trees are permanently removed if they are outperformed by a a single newly learnt tree.\n",
    "\n",
    "<img src=\"images/xdart.png\">"
   ]
  },
  {
   "cell_type": "markdown",
   "metadata": {},
   "source": [
    "#### Evaluate the effectiveness of the model\n",
    "\n",
    "X-Dart is implemented by QuickRank. See documentation here: https://github.com/hpclab/quickrank/blob/master/documentation/xdart.md.\n",
    "\n",
    "**Note:** As training takes a lot of time, we already trained a model for you and made it available at http://learningtorank.isti.cnr.it/models/istella-small_models.tar.gz so that you can skip the training step."
   ]
  },
  {
   "cell_type": "code",
   "execution_count": null,
   "metadata": {
    "collapsed": true
   },
   "outputs": [],
   "source": [
    "# Train X-Dart with QuickRank\n",
    "!{QUICKRANK} \\\n",
    "  --algo DART \\\n",
    "  --train {train_dataset_file} \\\n",
    "  --valid {valid_dataset_file} \\\n",
    "  --model-out {xdart_model_file} \\\n",
    "  --num-trees 1500 \\\n",
    "  --num-leaves 64 \\\n",
    "  --shrinkage 1.0 \\\n",
    "  --sample-type UNIFORM \\\n",
    "  --normalize-type TREE \\\n",
    "  --adaptive-type PLUSHALF_RESET_LB1_UB5 \\\n",
    "  --rate-drop 1.0 \\\n",
    "  --keep-drop \\\n",
    "  --drop-on-best"
   ]
  },
  {
   "cell_type": "code",
   "execution_count": 31,
   "metadata": {
    "collapsed": true
   },
   "outputs": [],
   "source": [
    "xdart_model = RTEnsemble(xdart_model_file, name=\"X-Dart\", format=\"QuickRank\")"
   ]
  },
  {
   "cell_type": "code",
   "execution_count": 32,
   "metadata": {
    "scrolled": false
   },
   "outputs": [
    {
     "data": {
      "application/vnd.jupyter.widget-view+json": {
       "model_id": "da2f02c0625545c18bc544ecfc5adf34"
      }
     },
     "metadata": {},
     "output_type": "display_data"
    },
    {
     "data": {
      "image/png": "[encoded data removed]",
      "text/plain": [
       "<matplotlib.figure.Figure at 0x7fc1f468ee10>"
      ]
     },
     "metadata": {},
     "output_type": "display_data"
    }
   ],
   "source": [
    "# measure NDCG\n",
    "tree_wise_perf = tree_wise_performance(datasets=[test_dataset], \n",
    "                                        models=[baseline_model, cleaver_model, dart_model, xdart_model],\n",
    "                                        metrics=[ndcg_10],\n",
    "                                        step=20)\n",
    "fig_list = plot_tree_wise_performance(tree_wise_perf, compare = \"models\")"
   ]
  },
  {
   "cell_type": "code",
   "execution_count": 33,
   "metadata": {},
   "outputs": [
    {
     "data": {
      "text/html": [
       "<div>\n",
       "<style>\n",
       "    .dataframe thead tr:only-child th {\n",
       "        text-align: right;\n",
       "    }\n",
       "\n",
       "    .dataframe thead th {\n",
       "        text-align: left;\n",
       "    }\n",
       "\n",
       "    .dataframe tbody tr th {\n",
       "        vertical-align: top;\n",
       "    }\n",
       "</style>\n",
       "<table border=\"1\" class=\"dataframe\">\n",
       "  <thead>\n",
       "    <tr style=\"text-align: right;\">\n",
       "      <th></th>\n",
       "      <th></th>\n",
       "      <th></th>\n",
       "      <th>model</th>\n",
       "      <th>Tree-Wise Performance</th>\n",
       "    </tr>\n",
       "    <tr>\n",
       "      <th>dataset</th>\n",
       "      <th>k</th>\n",
       "      <th>metric</th>\n",
       "      <th></th>\n",
       "      <th></th>\n",
       "    </tr>\n",
       "  </thead>\n",
       "  <tbody>\n",
       "    <tr>\n",
       "      <th rowspan=\"11\" valign=\"top\">test</th>\n",
       "      <th>500</th>\n",
       "      <th>NDCG@10</th>\n",
       "      <td>X-Dart</td>\n",
       "      <td>0.7530</td>\n",
       "    </tr>\n",
       "    <tr>\n",
       "      <th>520</th>\n",
       "      <th>NDCG@10</th>\n",
       "      <td>X-Dart</td>\n",
       "      <td>0.7530</td>\n",
       "    </tr>\n",
       "    <tr>\n",
       "      <th>540</th>\n",
       "      <th>NDCG@10</th>\n",
       "      <td>X-Dart</td>\n",
       "      <td>0.7537</td>\n",
       "    </tr>\n",
       "    <tr>\n",
       "      <th>560</th>\n",
       "      <th>NDCG@10</th>\n",
       "      <td>X-Dart</td>\n",
       "      <td>0.7545</td>\n",
       "    </tr>\n",
       "    <tr>\n",
       "      <th>580</th>\n",
       "      <th>NDCG@10</th>\n",
       "      <td>X-Dart</td>\n",
       "      <td>0.7544</td>\n",
       "    </tr>\n",
       "    <tr>\n",
       "      <th>600</th>\n",
       "      <th>NDCG@10</th>\n",
       "      <td>X-Dart</td>\n",
       "      <td>0.7548</td>\n",
       "    </tr>\n",
       "    <tr>\n",
       "      <th>620</th>\n",
       "      <th>NDCG@10</th>\n",
       "      <td>X-Dart</td>\n",
       "      <td>0.7555</td>\n",
       "    </tr>\n",
       "    <tr>\n",
       "      <th>640</th>\n",
       "      <th>NDCG@10</th>\n",
       "      <td>X-Dart</td>\n",
       "      <td>0.7552</td>\n",
       "    </tr>\n",
       "    <tr>\n",
       "      <th>660</th>\n",
       "      <th>NDCG@10</th>\n",
       "      <td>X-Dart</td>\n",
       "      <td>0.7558</td>\n",
       "    </tr>\n",
       "    <tr>\n",
       "      <th>680</th>\n",
       "      <th>NDCG@10</th>\n",
       "      <td>X-Dart</td>\n",
       "      <td>0.7561</td>\n",
       "    </tr>\n",
       "    <tr>\n",
       "      <th>700</th>\n",
       "      <th>NDCG@10</th>\n",
       "      <td>X-Dart</td>\n",
       "      <td>0.7568</td>\n",
       "    </tr>\n",
       "  </tbody>\n",
       "</table>\n",
       "</div>"
      ],
      "text/plain": [
       "                      model  Tree-Wise Performance\n",
       "dataset k   metric                                \n",
       "test    500 NDCG@10  X-Dart                 0.7530\n",
       "        520 NDCG@10  X-Dart                 0.7530\n",
       "        540 NDCG@10  X-Dart                 0.7537\n",
       "        560 NDCG@10  X-Dart                 0.7545\n",
       "        580 NDCG@10  X-Dart                 0.7544\n",
       "        600 NDCG@10  X-Dart                 0.7548\n",
       "        620 NDCG@10  X-Dart                 0.7555\n",
       "        640 NDCG@10  X-Dart                 0.7552\n",
       "        660 NDCG@10  X-Dart                 0.7558\n",
       "        680 NDCG@10  X-Dart                 0.7561\n",
       "        700 NDCG@10  X-Dart                 0.7568"
      ]
     },
     "execution_count": 33,
     "metadata": {},
     "output_type": "execute_result"
    }
   ],
   "source": [
    "# we want at least the same effectiveness as the baseline model\n",
    "tree_wise_perf.loc[{'model':xdart_model, 'k':range(500,720,20)}].to_dataframe()"
   ]
  },
  {
   "cell_type": "code",
   "execution_count": 34,
   "metadata": {
    "collapsed": true
   },
   "outputs": [],
   "source": [
    "small_xdart_trees = 560\n",
    "small_xdart = xdart_model.copy(n_trees=small_xdart_trees)\n",
    "small_xdart.save(small_xdart_model_file)\n",
    "\n",
    "small_xdart_effectiveness = float( tree_wise_perf.loc[{'model':xdart_model, 'k':small_xdart_trees, 'metric':ndcg_10}].values )"
   ]
  },
  {
   "cell_type": "markdown",
   "metadata": {},
   "source": [
    "#### Evaluate the efficiency of the model"
   ]
  },
  {
   "cell_type": "code",
   "execution_count": 35,
   "metadata": {},
   "outputs": [
    {
     "name": "stdout",
     "output_type": "stream",
     "text": [
      " 1. Creating the C code for models/istella-small.xdart.small.xml\n",
      " 2. Compiling the model\n",
      " 3. Running the compiled model\n",
      "\n",
      "      _____  _____\n",
      "     /    / /____/\n",
      "    /____\\ /    \\          QuickRank has been developed by hpc.isti.cnr.it\n",
      "    ::Quick:Rank::                                   quickrank@isti.cnr.it\n",
      "\n",
      "#\t Dataset size: 681250 x 220 (instances x features)\n",
      "#\t Num queries: 6562 | Avg. len: 104\n",
      "       Total scoring time: 22.3 s.\n",
      "Avg. Dataset scoring time: 22.3 s.\n",
      "Avg.    Doc. scoring time: 3.27e-05 s.\n"
     ]
    }
   ],
   "source": [
    "small_xdart_efficiency = run_condop(small_xdart_model_file, test_dataset_file)"
   ]
  },
  {
   "cell_type": "code",
   "execution_count": 36,
   "metadata": {
    "scrolled": true
   },
   "outputs": [
    {
     "data": {
      "text/html": [
       "<div>\n",
       "<style>\n",
       "    .dataframe thead tr:only-child th {\n",
       "        text-align: right;\n",
       "    }\n",
       "\n",
       "    .dataframe thead th {\n",
       "        text-align: left;\n",
       "    }\n",
       "\n",
       "    .dataframe tbody tr th {\n",
       "        vertical-align: top;\n",
       "    }\n",
       "</style>\n",
       "<table border=\"1\" class=\"dataframe\">\n",
       "  <thead>\n",
       "    <tr style=\"text-align: right;\">\n",
       "      <th></th>\n",
       "      <th>Model</th>\n",
       "      <th># Trees</th>\n",
       "      <th>NDCG@10</th>\n",
       "      <th>Scoring Time µs.</th>\n",
       "    </tr>\n",
       "  </thead>\n",
       "  <tbody>\n",
       "    <tr>\n",
       "      <th>0</th>\n",
       "      <td>LambdaMart</td>\n",
       "      <td>1492</td>\n",
       "      <td>0.7537</td>\n",
       "      <td>108.0</td>\n",
       "    </tr>\n",
       "    <tr>\n",
       "      <th>1</th>\n",
       "      <td>Cleaver</td>\n",
       "      <td>746</td>\n",
       "      <td>0.7530</td>\n",
       "      <td>47.7</td>\n",
       "    </tr>\n",
       "    <tr>\n",
       "      <th>2</th>\n",
       "      <td>Dart</td>\n",
       "      <td>760</td>\n",
       "      <td>0.7540</td>\n",
       "      <td>47.2</td>\n",
       "    </tr>\n",
       "    <tr>\n",
       "      <th>3</th>\n",
       "      <td>X-Dart</td>\n",
       "      <td>560</td>\n",
       "      <td>0.7545</td>\n",
       "      <td>32.7</td>\n",
       "    </tr>\n",
       "  </tbody>\n",
       "</table>\n",
       "</div>"
      ],
      "text/plain": [
       "        Model # Trees  NDCG@10  Scoring Time µs.\n",
       "0  LambdaMart    1492   0.7537             108.0\n",
       "1     Cleaver     746   0.7530              47.7\n",
       "2        Dart     760   0.7540              47.2\n",
       "3      X-Dart     560   0.7545              32.7"
      ]
     },
     "execution_count": 36,
     "metadata": {},
     "output_type": "execute_result"
    }
   ],
   "source": [
    "results.loc[len(results)] = [small_xdart.name, small_xdart.n_trees, small_xdart_effectiveness, small_xdart_efficiency]\n",
    "results"
   ]
  },
  {
   "cell_type": "markdown",
   "metadata": {},
   "source": [
    "### Exploiting QuickScorer to speed-up the scoring time\n",
    "\n",
    "[QuickScorer] uses a novel traversal methods and a cache-friendly data layout that reduces dramatically the traversal time.\n"
   ]
  },
  {
   "cell_type": "code",
   "execution_count": 37,
   "metadata": {
    "collapsed": true
   },
   "outputs": [],
   "source": [
    "target_model_file = small_xdart_model_file\n",
    "target_model = small_xdart\n",
    "target_model.name = \"QuickScorer\"\n",
    "target_model_effectiveness = small_xdart_effectiveness"
   ]
  },
  {
   "cell_type": "code",
   "execution_count": 38,
   "metadata": {},
   "outputs": [
    {
     "name": "stdout",
     "output_type": "stream",
     "text": [
      "\n",
      "      _____  _____\n",
      "     /    / /____\n",
      "    /____\\ _____/          QuickScorer has been developed by hpc.isti.cnr.it\n",
      "    :Quick:Scorer:                                   quickscorer@isti.cnr.it\n",
      "\n",
      "#\t Dataset size: 681250 x 220 (instances x features)\n",
      "#\t Num queries: 6562 | Avg. len: 104\n",
      "       Total scoring time: 6.79993 s.\n",
      "Avg. Dataset scoring time: 6.79993 s.\n",
      "Avg.    Doc. scoring time: 9.98155e-06 s.\n"
     ]
    }
   ],
   "source": [
    "scorer_out = !{QUICKSCORER} \\\n",
    "  -d {test_dataset_file} \\\n",
    "  -m {target_model_file} \\\n",
    "  -l 64 \\\n",
    "  -r 1 \\\n",
    "  -t 0\n",
    "    \n",
    "print (scorer_out.n)\n",
    "    \n",
    "# takes the scoring time in milli-seconds\n",
    "scoring_time = float(scorer_out.l[-1].split()[-2])* 10**6"
   ]
  },
  {
   "cell_type": "code",
   "execution_count": 39,
   "metadata": {},
   "outputs": [
    {
     "data": {
      "text/html": [
       "<div>\n",
       "<style>\n",
       "    .dataframe thead tr:only-child th {\n",
       "        text-align: right;\n",
       "    }\n",
       "\n",
       "    .dataframe thead th {\n",
       "        text-align: left;\n",
       "    }\n",
       "\n",
       "    .dataframe tbody tr th {\n",
       "        vertical-align: top;\n",
       "    }\n",
       "</style>\n",
       "<table border=\"1\" class=\"dataframe\">\n",
       "  <thead>\n",
       "    <tr style=\"text-align: right;\">\n",
       "      <th></th>\n",
       "      <th>Model</th>\n",
       "      <th># Trees</th>\n",
       "      <th>NDCG@10</th>\n",
       "      <th>Scoring Time µs.</th>\n",
       "    </tr>\n",
       "  </thead>\n",
       "  <tbody>\n",
       "    <tr>\n",
       "      <th>0</th>\n",
       "      <td>LambdaMart</td>\n",
       "      <td>1492</td>\n",
       "      <td>0.7537</td>\n",
       "      <td>108.0000</td>\n",
       "    </tr>\n",
       "    <tr>\n",
       "      <th>1</th>\n",
       "      <td>Cleaver</td>\n",
       "      <td>746</td>\n",
       "      <td>0.7530</td>\n",
       "      <td>47.7000</td>\n",
       "    </tr>\n",
       "    <tr>\n",
       "      <th>2</th>\n",
       "      <td>Dart</td>\n",
       "      <td>760</td>\n",
       "      <td>0.7540</td>\n",
       "      <td>47.2000</td>\n",
       "    </tr>\n",
       "    <tr>\n",
       "      <th>3</th>\n",
       "      <td>X-Dart</td>\n",
       "      <td>560</td>\n",
       "      <td>0.7545</td>\n",
       "      <td>32.7000</td>\n",
       "    </tr>\n",
       "    <tr>\n",
       "      <th>4</th>\n",
       "      <td>QuickScorer</td>\n",
       "      <td>560</td>\n",
       "      <td>0.7545</td>\n",
       "      <td>9.9815</td>\n",
       "    </tr>\n",
       "  </tbody>\n",
       "</table>\n",
       "</div>"
      ],
      "text/plain": [
       "         Model # Trees  NDCG@10  Scoring Time µs.\n",
       "0   LambdaMart    1492   0.7537          108.0000\n",
       "1      Cleaver     746   0.7530           47.7000\n",
       "2         Dart     760   0.7540           47.2000\n",
       "3       X-Dart     560   0.7545           32.7000\n",
       "4  QuickScorer     560   0.7545            9.9815"
      ]
     },
     "execution_count": 39,
     "metadata": {},
     "output_type": "execute_result"
    }
   ],
   "source": [
    "results.loc[len(results)] = [target_model.name, target_model.n_trees, target_model_effectiveness, scoring_time]\n",
    "results"
   ]
  },
  {
   "cell_type": "markdown",
   "metadata": {},
   "source": [
    "### Exploiting QuickScorer to speed-up the scoring time\n",
    "\n",
    "[V-QuickScorer] improves over QuickScorer by exploiting 256-bits wide CPU registers.\n"
   ]
  },
  {
   "cell_type": "code",
   "execution_count": 40,
   "metadata": {},
   "outputs": [
    {
     "name": "stdout",
     "output_type": "stream",
     "text": [
      "\n",
      "      _____  _____\n",
      "     /    / /____\n",
      "    /____\\ _____/          QuickScorer has been developed by hpc.isti.cnr.it\n",
      "    :Quick:Scorer:                                   quickscorer@isti.cnr.it\n",
      "\n",
      "#\t Dataset size: 681250 x 220 (instances x features)\n",
      "#\t Num queries: 6562 | Avg. len: 104\n",
      "       Total scoring time: 3.96768 s.\n",
      "Avg. Dataset scoring time: 3.96768 s.\n",
      "Avg.    Doc. scoring time: 5.82412e-06 s.\n"
     ]
    }
   ],
   "source": [
    "scorer_out = !{QUICKSCORER} \\\n",
    "  -d {test_dataset_file} \\\n",
    "  -m {target_model_file} \\\n",
    "  -l 64 \\\n",
    "  -r 1 \\\n",
    "  -t 3 \\\n",
    "  -v 8 \\\n",
    "  --avx\n",
    "\n",
    "print (scorer_out.n)\n",
    "    \n",
    "# takes the scoring time in milli-seconds\n",
    "scoring_time = float(scorer_out.l[-1].split()[-2])* 10**6"
   ]
  },
  {
   "cell_type": "code",
   "execution_count": 41,
   "metadata": {},
   "outputs": [
    {
     "data": {
      "text/html": [
       "<div>\n",
       "<style>\n",
       "    .dataframe thead tr:only-child th {\n",
       "        text-align: right;\n",
       "    }\n",
       "\n",
       "    .dataframe thead th {\n",
       "        text-align: left;\n",
       "    }\n",
       "\n",
       "    .dataframe tbody tr th {\n",
       "        vertical-align: top;\n",
       "    }\n",
       "</style>\n",
       "<table border=\"1\" class=\"dataframe\">\n",
       "  <thead>\n",
       "    <tr style=\"text-align: right;\">\n",
       "      <th></th>\n",
       "      <th>Model</th>\n",
       "      <th># Trees</th>\n",
       "      <th>NDCG@10</th>\n",
       "      <th>Scoring Time µs.</th>\n",
       "    </tr>\n",
       "  </thead>\n",
       "  <tbody>\n",
       "    <tr>\n",
       "      <th>0</th>\n",
       "      <td>LambdaMart</td>\n",
       "      <td>1492</td>\n",
       "      <td>0.7537</td>\n",
       "      <td>108.0000</td>\n",
       "    </tr>\n",
       "    <tr>\n",
       "      <th>1</th>\n",
       "      <td>Cleaver</td>\n",
       "      <td>746</td>\n",
       "      <td>0.7530</td>\n",
       "      <td>47.7000</td>\n",
       "    </tr>\n",
       "    <tr>\n",
       "      <th>2</th>\n",
       "      <td>Dart</td>\n",
       "      <td>760</td>\n",
       "      <td>0.7540</td>\n",
       "      <td>47.2000</td>\n",
       "    </tr>\n",
       "    <tr>\n",
       "      <th>3</th>\n",
       "      <td>X-Dart</td>\n",
       "      <td>560</td>\n",
       "      <td>0.7545</td>\n",
       "      <td>32.7000</td>\n",
       "    </tr>\n",
       "    <tr>\n",
       "      <th>4</th>\n",
       "      <td>QuickScorer</td>\n",
       "      <td>560</td>\n",
       "      <td>0.7545</td>\n",
       "      <td>9.9815</td>\n",
       "    </tr>\n",
       "    <tr>\n",
       "      <th>5</th>\n",
       "      <td>V-QS</td>\n",
       "      <td>560</td>\n",
       "      <td>0.7545</td>\n",
       "      <td>5.8241</td>\n",
       "    </tr>\n",
       "  </tbody>\n",
       "</table>\n",
       "</div>"
      ],
      "text/plain": [
       "         Model # Trees  NDCG@10  Scoring Time µs.\n",
       "0   LambdaMart    1492   0.7537          108.0000\n",
       "1      Cleaver     746   0.7530           47.7000\n",
       "2         Dart     760   0.7540           47.2000\n",
       "3       X-Dart     560   0.7545           32.7000\n",
       "4  QuickScorer     560   0.7545            9.9815\n",
       "5         V-QS     560   0.7545            5.8241"
      ]
     },
     "execution_count": 41,
     "metadata": {},
     "output_type": "execute_result"
    }
   ],
   "source": [
    "results.loc[len(results)] = ['V-QS', target_model.n_trees, target_model_effectiveness, scoring_time]\n",
    "results"
   ]
  },
  {
   "cell_type": "code",
   "execution_count": 42,
   "metadata": {},
   "outputs": [
    {
     "data": {
      "text/html": [
       "<div>\n",
       "<style>\n",
       "    .dataframe thead tr:only-child th {\n",
       "        text-align: right;\n",
       "    }\n",
       "\n",
       "    .dataframe thead th {\n",
       "        text-align: left;\n",
       "    }\n",
       "\n",
       "    .dataframe tbody tr th {\n",
       "        vertical-align: top;\n",
       "    }\n",
       "</style>\n",
       "<table border=\"1\" class=\"dataframe\">\n",
       "  <thead>\n",
       "    <tr style=\"text-align: right;\">\n",
       "      <th></th>\n",
       "      <th>Model</th>\n",
       "      <th># Trees</th>\n",
       "      <th>NDCG@10</th>\n",
       "      <th>Scoring Time µs.</th>\n",
       "      <th>Speed-up</th>\n",
       "    </tr>\n",
       "  </thead>\n",
       "  <tbody>\n",
       "    <tr>\n",
       "      <th>0</th>\n",
       "      <td>LambdaMart</td>\n",
       "      <td>1492</td>\n",
       "      <td>0.7537</td>\n",
       "      <td>108.0000</td>\n",
       "      <td>1.0000</td>\n",
       "    </tr>\n",
       "    <tr>\n",
       "      <th>1</th>\n",
       "      <td>Cleaver</td>\n",
       "      <td>746</td>\n",
       "      <td>0.7530</td>\n",
       "      <td>47.7000</td>\n",
       "      <td>2.2642</td>\n",
       "    </tr>\n",
       "    <tr>\n",
       "      <th>2</th>\n",
       "      <td>Dart</td>\n",
       "      <td>760</td>\n",
       "      <td>0.7540</td>\n",
       "      <td>47.2000</td>\n",
       "      <td>2.2881</td>\n",
       "    </tr>\n",
       "    <tr>\n",
       "      <th>3</th>\n",
       "      <td>X-Dart</td>\n",
       "      <td>560</td>\n",
       "      <td>0.7545</td>\n",
       "      <td>32.7000</td>\n",
       "      <td>3.3028</td>\n",
       "    </tr>\n",
       "    <tr>\n",
       "      <th>4</th>\n",
       "      <td>QuickScorer</td>\n",
       "      <td>560</td>\n",
       "      <td>0.7545</td>\n",
       "      <td>9.9815</td>\n",
       "      <td>10.8200</td>\n",
       "    </tr>\n",
       "    <tr>\n",
       "      <th>5</th>\n",
       "      <td>V-QS</td>\n",
       "      <td>560</td>\n",
       "      <td>0.7545</td>\n",
       "      <td>5.8241</td>\n",
       "      <td>18.5436</td>\n",
       "    </tr>\n",
       "  </tbody>\n",
       "</table>\n",
       "</div>"
      ],
      "text/plain": [
       "         Model # Trees  NDCG@10  Scoring Time µs.  Speed-up\n",
       "0   LambdaMart    1492   0.7537          108.0000    1.0000\n",
       "1      Cleaver     746   0.7530           47.7000    2.2642\n",
       "2         Dart     760   0.7540           47.2000    2.2881\n",
       "3       X-Dart     560   0.7545           32.7000    3.3028\n",
       "4  QuickScorer     560   0.7545            9.9815   10.8200\n",
       "5         V-QS     560   0.7545            5.8241   18.5436"
      ]
     },
     "execution_count": 42,
     "metadata": {},
     "output_type": "execute_result"
    }
   ],
   "source": [
    "results[\"Speed-up\"] = results[\"Scoring Time µs.\"][0]/ results[\"Scoring Time µs.\"]\n",
    "results"
   ]
  },
  {
   "cell_type": "markdown",
   "metadata": {
    "collapsed": true
   },
   "source": [
    "***\n",
    "\n",
    "### References\n",
    "\n",
    "  [LambdaMart] Christopher J.C. Burges. From ranknet to lambdarank to lambdamart: An overview. Technical Report MSR-TR-2010-82, June 2010.\n",
    "\n",
    "  [Dart] Korlakai Vinayak, R. & Gilad-Bachrach, R. (2015). DART: Dropouts meet Multiple Additive Regression Trees. Proceedings of the Eighteenth International Conference on Artificial Intelligence and Statistics, in PMLR 38:489-497\n",
    "\n",
    "  [XDart] Lucchese, C., Nardini, F. M., Orlando, S., Perego, R., & Trani, S. (2017). X-DART: Blending Dropout and Pruning for Efficient Learning to Rank. In Proceedings of the 40th International ACM SIGIR Conference on Research and Development in Information Retrieval (pp. 1077-1080). ACM.\n",
    "  \n",
    "  [Cleaver] Lucchese, C., Nardini, F. M., Orlando, S., Perego, R., Silvestri, F., & Trani, S. (2016). Post-learning optimization of tree ensembles for efficient ranking. In Proceedings of the 39th International ACM SIGIR conference on Research and Development in Information Retrieval (pp. 949-952). ACM.\n",
    "  \n",
    "  [QuickScorer] Lucchese, C., Nardini, F. M., Orlando, S., Perego, R., Tonellotto, N., & Venturini, R. (2015, August). Quickscorer: A fast algorithm to rank documents with additive ensembles of regression trees. In Proceedings of the 38th International ACM SIGIR Conference on Research and Development in Information Retrieval (pp. 73-82). ACM.\n",
    "  \n",
    "  [V-QuickScorer] Lucchese, C., Nardini, F. M., Orlando, S., Perego, R., Tonellotto, N., & Venturini, R. (2016, July). Exploiting CPU SIMD extensions to speed-up document scoring with tree ensembles. In Proceedings of the 39th International ACM SIGIR conference on Research and Development in Information Retrieval (pp. 833-836). ACM.\n"
   ]
  },
  {
   "cell_type": "code",
   "execution_count": null,
   "metadata": {
    "collapsed": true
   },
   "outputs": [],
   "source": []
  }
 ],
 "metadata": {
  "kernelspec": {
   "display_name": "Python 2",
   "language": "python",
   "name": "python2"
  },
  "language_info": {
   "codemirror_mode": {
    "name": "ipython",
    "version": 2
   },
   "file_extension": ".py",
   "mimetype": "text/x-python",
   "name": "python",
   "nbconvert_exporter": "python",
   "pygments_lexer": "ipython2",
   "version": "2.7.6"
  }
 },
 "nbformat": 4,
 "nbformat_minor": 2
}
